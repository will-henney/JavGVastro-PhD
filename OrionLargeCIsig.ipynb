{
 "cells": [
  {
   "cell_type": "code",
   "execution_count": 1,
   "metadata": {},
   "outputs": [],
   "source": [
    "import time\n",
    "start_time=time.time()"
   ]
  },
  {
   "cell_type": "code",
   "execution_count": 2,
   "metadata": {},
   "outputs": [],
   "source": [
    "import json\n",
    "import numpy as np\n",
    "import matplotlib.pyplot as plt\n",
    "import pandas as pd\n",
    "import seaborn as sns\n",
    "import lmfit\n",
    "from scipy import interpolate\n",
    "import pickle\n",
    "\n",
    "from bfunc import bfunc00,bfunc01,bfunc02"
   ]
  },
  {
   "cell_type": "markdown",
   "metadata": {},
   "source": [
    "Data load and region parameters"
   ]
  },
  {
   "cell_type": "code",
   "execution_count": 3,
   "metadata": {
    "lines_to_next_cell": 0
   },
   "outputs": [
    {
     "data": {
      "text/html": [
       "<div>\n",
       "<style scoped>\n",
       "    .dataframe tbody tr th:only-of-type {\n",
       "        vertical-align: middle;\n",
       "    }\n",
       "\n",
       "    .dataframe tbody tr th {\n",
       "        vertical-align: top;\n",
       "    }\n",
       "\n",
       "    .dataframe thead th {\n",
       "        text-align: right;\n",
       "    }\n",
       "</style>\n",
       "<table border=\"1\" class=\"dataframe\">\n",
       "  <thead>\n",
       "    <tr style=\"text-align: right;\">\n",
       "      <th></th>\n",
       "      <th>0</th>\n",
       "    </tr>\n",
       "  </thead>\n",
       "  <tbody>\n",
       "    <tr>\n",
       "      <th>0</th>\n",
       "      <td>1951VHOrion1</td>\n",
       "    </tr>\n",
       "    <tr>\n",
       "      <th>1</th>\n",
       "      <td>1951VHOrion2</td>\n",
       "    </tr>\n",
       "    <tr>\n",
       "      <th>2</th>\n",
       "      <td>1958MchOrion</td>\n",
       "    </tr>\n",
       "    <tr>\n",
       "      <th>3</th>\n",
       "      <td>2016ArthOrionH</td>\n",
       "    </tr>\n",
       "    <tr>\n",
       "      <th>4</th>\n",
       "      <td>Orion1</td>\n",
       "    </tr>\n",
       "    <tr>\n",
       "      <th>5</th>\n",
       "      <td>Orion2</td>\n",
       "    </tr>\n",
       "  </tbody>\n",
       "</table>\n",
       "</div>"
      ],
      "text/plain": [
       "                0\n",
       "0    1951VHOrion1\n",
       "1    1951VHOrion2\n",
       "2    1958MchOrion\n",
       "3  2016ArthOrionH\n",
       "4          Orion1\n",
       "5          Orion2"
      ]
     },
     "execution_count": 3,
     "metadata": {},
     "output_type": "execute_result"
    }
   ],
   "source": [
    "Sample='orion'\n",
    "\n",
    "samples=pd.read_csv('SampleList//'+Sample+'.csv',header=None)\n",
    "\n",
    "DataNO=dict()\n",
    "DataO=dict()\n",
    "\n",
    "\n",
    "for i in range(len(samples)):\n",
    "    DataNO[i]=samples[0][i]\n",
    "    \n",
    "for i in range(len(samples)):\n",
    "    DataO[i]=pd.read_csv('SFdata//'+DataNO[i]+'.csv')    \n",
    "\n",
    "\n",
    "\n",
    "samples"
   ]
  },
  {
   "cell_type": "code",
   "execution_count": null,
   "metadata": {
    "lines_to_next_cell": 2
   },
   "outputs": [],
   "source": []
  },
  {
   "cell_type": "code",
   "execution_count": 4,
   "metadata": {
    "lines_to_next_cell": 2
   },
   "outputs": [
    {
     "data": {
      "image/png": "[encoded data removed]",
      "text/plain": [
       "<Figure size 576x576 with 1 Axes>"
      ]
     },
     "metadata": {
      "needs_background": "light"
     },
     "output_type": "display_data"
    }
   ],
   "source": [
    "fig, ax=plt.subplots(figsize=(8,8))\n",
    "\n",
    "plt.loglog(DataO[5].pc,DataO[5].S,color=\"black\",alpha=0.65)\n",
    "\n",
    "plt.axhline(y=3.23**2, color='black', linestyle='-')\n",
    "plt.axvline(x=0.55, color='black', linestyle='-')\n",
    "\n",
    "lo=0.55\n",
    "ss=3.23**2\n",
    "n=0.75\n",
    "x=np.linspace(0.1,3,100)\n",
    "c=1/(1+(x/lo)**n)\n",
    "y=2*(1-c)*ss\n",
    "plt.loglog(x,y,color='r', linestyle='-',linewidth='2.3')\n",
    "\n",
    "#ax.text(0.83, 0.15,'m = 1.15', ha='center', va='center', transform=ax.transAxes, color='red')\n",
    "#ax.text(0.83, 0.20,'r$_{0}$ = 1.5 pc', ha='center', va='center', transform=ax.transAxes, color='red')\n",
    "#ax.text(0.84, 0.25,'σ = 2.7 km/s', ha='center', va='center', transform=ax.transAxes, color='red')\n",
    "    \n",
    "#ax.set(xlabel='r [pc]', ylabel='B(r) [km$^{2}$/s$^{2}$]')\n",
    "plt.tick_params(which='both', labelright=False, direction='in', right=True,  top=True)\n"
   ]
  },
  {
   "cell_type": "code",
   "execution_count": 5,
   "metadata": {},
   "outputs": [],
   "source": [
    "rgrid = np.logspace(0.1, 3)\n",
    "\n",
    "s0 = (0.00242)/2.355             \n",
    "m = 0.75\n",
    "\n",
    "sig2 = ss\n",
    "r0 = 0.55\n",
    "\n",
    "B=DataO[5].S[0:6]\n",
    "r=DataO[5].pc[0:6]"
   ]
  },
  {
   "cell_type": "code",
   "execution_count": 6,
   "metadata": {},
   "outputs": [
    {
     "data": {
      "text/plain": [
       "['r0', 'sig2', 'm', 's0', 'noise']"
      ]
     },
     "execution_count": 6,
     "metadata": {},
     "output_type": "execute_result"
    }
   ],
   "source": [
    "model02 = lmfit.Model(bfunc02)\n",
    "model02.param_names"
   ]
  },
  {
   "cell_type": "code",
   "execution_count": 7,
   "metadata": {},
   "outputs": [],
   "source": [
    "relative_uncertainty = 0.1\n",
    "weights = 1.0 / (relative_uncertainty * B)\n",
    "weights[r > r0] /= 1.25"
   ]
  },
  {
   "cell_type": "code",
   "execution_count": 8,
   "metadata": {},
   "outputs": [
    {
     "name": "stdout",
     "output_type": "stream",
     "text": [
      "Name      Value      Min      Max     Vary    Expr    \n",
      "m           nan        0      inf     True    \n",
      "noise       nan        0      inf     True    \n",
      "r0          nan        0      inf     True    \n",
      "s0          nan        0      inf     True    \n",
      "sig2        nan        0      inf     True    \n"
     ]
    }
   ],
   "source": [
    "for p in model02.param_names:\n",
    "    model02.set_param_hint(p, min=0.0)\n",
    "\n",
    "#model02.set_param_hint(\"sig2\", value=sig2, vary=False)\n",
    "#model02.set_param_hint(\"s0\", min=0.2)\n",
    "model02.print_param_hints()"
   ]
  },
  {
   "cell_type": "code",
   "execution_count": 9,
   "metadata": {},
   "outputs": [
    {
     "data": {
      "text/plain": [
       "0     6.739420\n",
       "1     8.452805\n",
       "2    10.007076\n",
       "3    12.638353\n",
       "4    17.367990\n",
       "5    23.483277\n",
       "Name: S, dtype: float64"
      ]
     },
     "execution_count": 9,
     "metadata": {},
     "output_type": "execute_result"
    }
   ],
   "source": [
    "B"
   ]
  },
  {
   "cell_type": "code",
   "execution_count": 10,
   "metadata": {},
   "outputs": [],
   "source": [
    "result2 = model02.fit(\n",
    "    B, \n",
    "    weights=weights,\n",
    "    r=r, r0=r0, m=m, s0=s0, noise=1/10, sig2=sig2\n",
    ")"
   ]
  },
  {
   "cell_type": "code",
   "execution_count": 11,
   "metadata": {
    "lines_to_end_of_cell_marker": 2
   },
   "outputs": [
    {
     "data": {
      "image/png": "[encoded data removed]",
      "text/plain": [
       "<Figure size 432x432 with 2 Axes>"
      ]
     },
     "metadata": {
      "needs_background": "light"
     },
     "output_type": "display_data"
    }
   ],
   "source": [
    "fig, _ = result2.plot()\n",
    "fig.axes[0].set(\n",
    "    xscale=\"log\",\n",
    "    yscale=\"symlog\",\n",
    ")\n",
    "fig.axes[1].set(\n",
    "    xscale=\"log\",\n",
    "    yscale=\"log\",\n",
    ");"
   ]
  },
  {
   "cell_type": "code",
   "execution_count": 12,
   "metadata": {},
   "outputs": [
    {
     "name": "stdout",
     "output_type": "stream",
     "text": [
      "[[Model]]\n",
      "    Model(bfunc02)\n",
      "[[Fit Statistics]]\n",
      "    # fitting method   = leastsq\n",
      "    # function evals   = 848\n",
      "    # data points      = 6\n",
      "    # variables        = 5\n",
      "    chi-square         = 0.10130324\n",
      "    reduced chi-square = 0.10130324\n",
      "    Akaike info crit   = -14.4883781\n",
      "    Bayesian info crit = -15.5295807\n",
      "##  Warning: uncertainties could not be estimated:\n",
      "    s0:     at initial value\n",
      "[[Variables]]\n",
      "    r0:     1606.18906 (init = 0.55)\n",
      "    sig2:   5165.59605 (init = 10.4329)\n",
      "    m:      0.90706530 (init = 0.75)\n",
      "    s0:     0.00102760 (init = 0.001027601)\n",
      "    noise:  4.57969814 (init = 0.1)\n"
     ]
    }
   ],
   "source": [
    "print(result2.fit_report())"
   ]
  },
  {
   "cell_type": "code",
   "execution_count": 13,
   "metadata": {},
   "outputs": [],
   "source": [
    "for p in result2.model.param_names:\n",
    "    result2.params[p].stderr = result2.params[p].value * 0.1"
   ]
  },
  {
   "cell_type": "code",
   "execution_count": 14,
   "metadata": {},
   "outputs": [
    {
     "name": "stderr",
     "output_type": "stream",
     "text": [
      "/Users/will/miniconda3/envs/py39/lib/python3.9/site-packages/lmfit/confidence.py:319: UserWarning: Bound reached with prob(r0=0.0) = 0.9731965883342112 < max(sigmas)\n",
      "  warn(errmsg)\n",
      "/Users/will/miniconda3/envs/py39/lib/python3.9/site-packages/lmfit/confidence.py:334: UserWarning: rel_change=0.0 < 1e-05 at iteration 1 and prob(r0=1766.8079667799996) = 0.0 < max(sigmas).\n",
      "  warn(errmsg)\n",
      "/Users/will/miniconda3/envs/py39/lib/python3.9/site-packages/lmfit/confidence.py:319: UserWarning: Bound reached with prob(sig2=0.0) = 0.9731965883164192 < max(sigmas)\n",
      "  warn(errmsg)\n",
      "/Users/will/miniconda3/envs/py39/lib/python3.9/site-packages/lmfit/confidence.py:334: UserWarning: rel_change=0.0 < 1e-05 at iteration 1 and prob(sig2=5682.155657819665) = 0.0 < max(sigmas).\n",
      "  warn(errmsg)\n",
      "/Users/will/miniconda3/envs/py39/lib/python3.9/site-packages/lmfit/confidence.py:319: UserWarning: Bound reached with prob(m=0.0) = 0.9731965883562705 < max(sigmas)\n",
      "  warn(errmsg)\n",
      "/Users/will/miniconda3/envs/py39/lib/python3.9/site-packages/lmfit/confidence.py:334: UserWarning: rel_change=-0.012154310401919563 < 1e-05 at iteration 14 and prob(m=2.17695670939011) = 0.937973588782259 < max(sigmas).\n",
      "  warn(errmsg)\n",
      "/Users/will/miniconda3/envs/py39/lib/python3.9/site-packages/lmfit/confidence.py:334: UserWarning: rel_change=0.0 < 1e-05 at iteration 1 and prob(s0=0.000924840764331214) = 0.0 < max(sigmas).\n",
      "  warn(errmsg)\n",
      "/Users/will/miniconda3/envs/py39/lib/python3.9/site-packages/lmfit/confidence.py:334: UserWarning: rel_change=0.0 < 1e-05 at iteration 1 and prob(s0=0.001130360934182595) = 0.0 < max(sigmas).\n",
      "  warn(errmsg)\n",
      "/Users/will/miniconda3/envs/py39/lib/python3.9/site-packages/lmfit/confidence.py:319: UserWarning: Bound reached with prob(noise=0.0) = 0.8339938873546684 < max(sigmas)\n",
      "  warn(errmsg)\n",
      "/Users/will/miniconda3/envs/py39/lib/python3.9/site-packages/lmfit/confidence.py:334: UserWarning: rel_change=-0.00011979674219303747 < 1e-05 at iteration 10 and prob(noise=9.159396273157213) = 0.9732164714514651 < max(sigmas).\n",
      "  warn(errmsg)\n"
     ]
    },
    {
     "name": "stdout",
     "output_type": "stream",
     "text": [
      "          99.73%    95.45%    68.27%    _BEST_    68.27%    95.45%    99.73%\n",
      " r0   :      -inf-1605.77821-1605.072831606.18906      +inf      +inf      +inf\n",
      " sig2 :      -inf-5088.59398-5109.311525165.59605      +inf      +inf      +inf\n",
      " m    :      -inf  -0.65848  -0.19456   0.90707  +0.19695      +inf      +inf\n",
      " s0   :      -inf      -inf      -inf   0.00103      +inf      +inf      +inf\n",
      " noise:      -inf      -inf  -1.64183   4.57970  +1.77805  +4.10111      +inf\n"
     ]
    }
   ],
   "source": [
    "result2.conf_interval()\n",
    "print(result2.ci_report())"
   ]
  },
  {
   "cell_type": "code",
   "execution_count": 15,
   "metadata": {},
   "outputs": [],
   "source": [
    "plt.style.use([\n",
    "    \"seaborn-poster\",\n",
    "])"
   ]
  },
  {
   "cell_type": "code",
   "execution_count": 16,
   "metadata": {},
   "outputs": [],
   "source": [
    "plot_limits = {\n",
    "    \"s0\": [0.0, 1],\n",
    "    \"m\": [0.0, 3.0],\n",
    "    \"r0\": [0.0, 8.0],\n",
    "    \"noise\": [0.0, 2.0],\n",
    "}"
   ]
  },
  {
   "cell_type": "code",
   "execution_count": 17,
   "metadata": {},
   "outputs": [
    {
     "data": {
      "image/png": "[encoded data removed]",
      "text/plain": [
       "<Figure size 864x720 with 4 Axes>"
      ]
     },
     "metadata": {
      "needs_background": "light"
     },
     "output_type": "display_data"
    }
   ],
   "source": [
    "fig, axes = plt.subplots(2, 2, figsize=(12, 10))\n",
    "\n",
    "plt.title('Orion L')\n",
    "levels = [0.6827, 0.9545, 0.9973]\n",
    "colors = [\"g\", \"y\", \"r\"]\n",
    "\n",
    "for ax, [xvar, yvar] in zip(axes.flat, [\n",
    "    [\"s0\", \"noise\"],\n",
    "    [\"r0\", \"m\"],\n",
    "    [\"m\", \"s0\"],\n",
    "    [\"r0\", \"s0\"],\n",
    "]):\n",
    "    cx, cy, grid = lmfit.conf_interval2d(\n",
    "        result2, result2, xvar, yvar, 30, 30,\n",
    "        limits=[plot_limits[xvar], plot_limits[yvar]],\n",
    "    )\n",
    "    ctp = ax.contour(cx, cy, grid, levels, colors=colors)\n",
    "    ax.set_xlabel(xvar)\n",
    "    ax.set_ylabel(yvar)\n",
    "\n",
    "fig.tight_layout();"
   ]
  },
  {
   "cell_type": "code",
   "execution_count": 18,
   "metadata": {},
   "outputs": [
    {
     "data": {
      "text/plain": [
       "array([], dtype=float64)"
      ]
     },
     "execution_count": 18,
     "metadata": {},
     "output_type": "execute_result"
    }
   ],
   "source": [
    "x=r\n",
    "y=B-2*sig2\n",
    "tck=interpolate.splrep(x,y,s=0)\n",
    "grid=np.linspace(x.min(),x.max(),num=len(x))\n",
    "ynew=interpolate.splev(grid,tck,der=0)\n",
    "inter=pd.DataFrame([grid,ynew]).T\n",
    "SFr=interpolate.sproot(tck)\n",
    "SFr"
   ]
  },
  {
   "cell_type": "code",
   "execution_count": 19,
   "metadata": {},
   "outputs": [
    {
     "data": {
      "text/plain": [
       "2.0731282523497216"
      ]
     },
     "execution_count": 19,
     "metadata": {},
     "output_type": "execute_result"
    }
   ],
   "source": [
    "r.max()"
   ]
  },
  {
   "cell_type": "code",
   "execution_count": 20,
   "metadata": {},
   "outputs": [
    {
     "data": {
      "text/plain": [
       "3.447521207561534"
      ]
     },
     "execution_count": 20,
     "metadata": {},
     "output_type": "execute_result"
    }
   ],
   "source": [
    "r.max()/result2.params['r0'].value"
   ]
  },
  {
   "cell_type": "code",
   "execution_count": 21,
   "metadata": {},
   "outputs": [
    {
     "data": {
      "text/plain": [
       "0.46725998714620576"
      ]
     },
     "execution_count": 21,
     "metadata": {},
     "output_type": "execute_result"
    }
   ],
   "source": [
    "(r[0]/2**0.5)*((result2.params['r0'].value/r[0])**(result2.params['m'].value/2))"
   ]
  },
  {
   "cell_type": "code",
   "execution_count": 22,
   "metadata": {},
   "outputs": [],
   "source": [
    "f = open('CI//OrionL.pkl',\"wb\")\n",
    "pickle.dump(result2,f)\n",
    "f.close()"
   ]
  },
  {
   "cell_type": "code",
   "execution_count": null,
   "metadata": {},
   "outputs": [],
   "source": []
  },
  {
   "cell_type": "code",
   "execution_count": 23,
   "metadata": {},
   "outputs": [
    {
     "name": "stdout",
     "output_type": "stream",
     "text": [
      "--- 1003.5474042892456 seconds ---\n"
     ]
    }
   ],
   "source": [
    "print(\"--- %s seconds ---\" % (time.time()-start_time))"
   ]
  }
 ],
 "metadata": {
  "jupytext": {
   "encoding": "# -*- coding: utf-8 -*-",
   "formats": "ipynb,py:light"
  },
  "kernelspec": {
   "display_name": "Python 3",
   "language": "python",
   "name": "python3"
  },
  "language_info": {
   "codemirror_mode": {
    "name": "ipython",
    "version": 3
   },
   "file_extension": ".py",
   "mimetype": "text/x-python",
   "name": "python",
   "nbconvert_exporter": "python",
   "pygments_lexer": "ipython3",
   "version": "3.9.4"
  }
 },
 "nbformat": 4,
 "nbformat_minor": 4
}
